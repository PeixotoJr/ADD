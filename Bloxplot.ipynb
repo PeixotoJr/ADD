{
  "nbformat": 4,
  "nbformat_minor": 0,
  "metadata": {
    "colab": {
      "provenance": [],
      "authorship_tag": "ABX9TyNpAdfDdFIZ0Tv67UOewi/S",
      "include_colab_link": true
    },
    "kernelspec": {
      "name": "python3",
      "display_name": "Python 3"
    },
    "language_info": {
      "name": "python"
    }
  },
  "cells": [
    {
      "cell_type": "markdown",
      "metadata": {
        "id": "view-in-github",
        "colab_type": "text"
      },
      "source": [
        "<a href=\"https://colab.research.google.com/github/PeixotoJr/ADD/blob/main/Bloxplot.ipynb\" target=\"_parent\"><img src=\"https://colab.research.google.com/assets/colab-badge.svg\" alt=\"Open In Colab\"/></a>"
      ]
    },
    {
      "cell_type": "markdown",
      "metadata": {
        "id": "v9xa0Ec-FDi5"
      },
      "source": [
        "Blox Plot usando [Seaborn](https://seaborn.pydata.org/)"
      ]
    },
    {
      "cell_type": "code",
      "metadata": {
        "id": "DCZ7ZBbBDo_U"
      },
      "source": [
        "# importando Seaborn\n",
        "# Como instalar pelo terminal - pip install seaborn\n",
        "import seaborn as sns"
      ],
      "execution_count": null,
      "outputs": []
    },
    {
      "cell_type": "code",
      "metadata": {
        "id": "FNvIdR0PFlpH"
      },
      "source": [
        "#Load Data Set e Vizualiar parte dos dados.\n",
        "tips = sns.load_dataset(\"tips\")\n",
        "tips.head()"
      ],
      "execution_count": null,
      "outputs": []
    },
    {
      "cell_type": "code",
      "metadata": {
        "id": "MSRidKZaE89O"
      },
      "source": [
        "# BloxPlot referente aos valores da columa total_bill\n",
        "sns.set_theme(style=\"whitegrid\")\n",
        "ax = sns.boxplot(x=tips[\"total_bill\"])\n"
      ],
      "execution_count": null,
      "outputs": []
    },
    {
      "cell_type": "code",
      "metadata": {
        "id": "b0-Dx1qsEFMX"
      },
      "source": [
        "# BloxPlot referente aos valores da columa total_bill por dia da Semana\n",
        "ax = sns.boxplot(x=\"day\", y=\"total_bill\", data=tips)"
      ],
      "execution_count": null,
      "outputs": []
    },
    {
      "cell_type": "code",
      "metadata": {
        "id": "WTsC5CHKEL8O"
      },
      "source": [
        "# BloxPlot referente aos valores da columa total_bill por dia da Semana por classes SMOKER (YES ou NO)\n",
        "ax = sns.boxplot(x=\"day\", y=\"total_bill\", hue=\"smoker\", data=tips, palette=\"Set3\")"
      ],
      "execution_count": null,
      "outputs": []
    },
    {
      "cell_type": "code",
      "metadata": {
        "id": "WEc3tsrcEUey"
      },
      "source": [
        "# BloxPlot referente aos valores da columa total_bill por dia da Semana e tipo de TIME(Lunch ou Dinner)\n",
        "ax = sns.boxplot(x=\"day\", y=\"total_bill\", hue=\"time\", data=tips, linewidth=2.5)"
      ],
      "execution_count": null,
      "outputs": []
    },
    {
      "cell_type": "code",
      "metadata": {
        "id": "GqehwxunEakf"
      },
      "source": [
        "# BloxPlot referente aos valores da columa \"tip\" por tipo de TIME(Lunch ou Dinner)\n",
        "ax = sns.boxplot(x=\"time\", y=\"tip\", data=tips, order=[\"Dinner\", \"Lunch\"])"
      ],
      "execution_count": null,
      "outputs": []
    },
    {
      "cell_type": "code",
      "metadata": {
        "id": "UY8c_NsHHMwd"
      },
      "source": [
        "# usando outro dataset\n",
        "iris = sns.load_dataset(\"iris\")\n",
        "iris.sample(5)"
      ],
      "execution_count": null,
      "outputs": []
    },
    {
      "cell_type": "code",
      "metadata": {
        "id": "4lWeF32tEhSO"
      },
      "source": [
        "# Blox Plot para cada coluna numérica do Data Set\n",
        "ax = sns.boxplot(data=iris, orient=\"h\", palette=\"Set2\")"
      ],
      "execution_count": null,
      "outputs": []
    },
    {
      "cell_type": "code",
      "metadata": {
        "id": "tv23p6d9En7p"
      },
      "source": [
        "# BloxPlot referente aos valores da columa total_bill e verificando se é na semana ou não (False or True) [isin([\"Sat\", \"Sun\"])]\n",
        "tips[\"weekend\"] = tips[\"day\"].isin([\"Sat\", \"Sun\"])\n",
        "ax = sns.boxplot(x=\"day\", y=\"total_bill\", hue=\"weekend\", data=tips, dodge=False)"
      ],
      "execution_count": null,
      "outputs": []
    },
    {
      "cell_type": "code",
      "metadata": {
        "id": "HqVcCYzfEu_b"
      },
      "source": [
        "# BloxPlot referente aos valores da columa total_bill com a apresentação dos dados\n",
        "ax = sns.boxplot(x=\"day\", y=\"total_bill\", data=tips)\n",
        "# Adiciona os pontos\n",
        "ax = sns.swarmplot(x=\"day\", y=\"total_bill\", data=tips, color=\".25\")"
      ],
      "execution_count": null,
      "outputs": []
    },
    {
      "cell_type": "code",
      "metadata": {
        "id": "JN6V1EGkE17i"
      },
      "source": [
        "# BloxPlot referente aos valores da columa total_bill separados por SEX and SMOKER\n",
        "g = sns.catplot(x=\"sex\", y=\"total_bill\", hue=\"smoker\", col=\"time\",\n",
        "                data=tips, kind=\"box\", height=4, aspect=.7);"
      ],
      "execution_count": null,
      "outputs": []
    }
  ]
}